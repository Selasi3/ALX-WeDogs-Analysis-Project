{
 "cells": [
  {
   "cell_type": "markdown",
   "id": "10b02ac7",
   "metadata": {},
   "source": [
    "# <center>WeRateDogs Data Analysis Project Report</center>\n"
   ]
  },
  {
   "cell_type": "markdown",
   "id": "a0afea29",
   "metadata": {},
   "source": [
    "### Data Gathering"
   ]
  },
  {
   "cell_type": "markdown",
   "id": "e957b2eb",
   "metadata": {},
   "source": [
    "The project comprises of three different datasets:\n",
    "- `twitter-archive-enhanced.csv`\n",
    "- `extra_archive`\n",
    "- `image_predictions`\n",
    "\n",
    "    "
   ]
  },
  {
   "cell_type": "markdown",
   "id": "98b15087",
   "metadata": {},
   "source": [
    "- `twitter-archive-enhanced.csv`\n",
    "\n",
    "This dataset was given in the course project content."
   ]
  },
  {
   "cell_type": "markdown",
   "id": "312c970b",
   "metadata": {},
   "source": [
    "- `extra_archive`\n",
    "\n",
    "This dataset was extracted from Twitter using twitter API with the tweepy library package.\n",
    "\n",
    "Using twitter API requires a user to have a twitter account and register for twitter developer account and user authentication to access data from Twitter.\n",
    "\n",
    "The data extracted from Twitter was stored as a json data into a txt file then read with the pandas library package."
   ]
  },
  {
   "cell_type": "markdown",
   "id": "6d3b6375",
   "metadata": {},
   "source": [
    "- `image_predictions`"
   ]
  },
  {
   "cell_type": "markdown",
   "id": "475933ff",
   "metadata": {},
   "source": [
    "This dataset was obtained from a URL using the request python library. the data was in the form of a tsv file.\n",
    "\n",
    "This dataset comprises mainly the top 3 predictions for the corresponding dog."
   ]
  },
  {
   "cell_type": "markdown",
   "id": "6cc59149",
   "metadata": {},
   "source": [
    "### Assessing"
   ]
  },
  {
   "cell_type": "markdown",
   "id": "bf4a9fd5",
   "metadata": {},
   "source": [
    "The `twitter_archive` table was assessed by checking the following:\n",
    "- The datatype of the columns\n",
    "- Duplicated rows\n",
    "- Unique ids\n",
    "- Inconsistent and incorrect values\n",
    "\n",
    "\n"
   ]
  },
  {
   "cell_type": "markdown",
   "id": "19f2d86d",
   "metadata": {},
   "source": [
    "The `image_predictions` table was assessed by checking the following:\n",
    "- The datatype of the columns\n",
    "- Duplicated rows\n",
    "- Unique ids\n",
    "- Inconsistent and incorrect values\n",
    "- False predictions\n",
    "\n",
    "\n"
   ]
  },
  {
   "cell_type": "markdown",
   "id": "a761c8db",
   "metadata": {},
   "source": [
    "### Cleaning"
   ]
  },
  {
   "cell_type": "markdown",
   "id": "e1a81a49",
   "metadata": {},
   "source": [
    "`twitter_archive` table\n",
    "- Converting columns to their right datatypes\n",
    "- Rows with retweets were removed.\n",
    "- Dropping of unnecessary columns\n",
    "- The 4 columns of dog type was merged into one column\n",
    "- Converting names to lowercase to ensure consistency\n"
   ]
  },
  {
   "cell_type": "markdown",
   "id": "0fe56f04",
   "metadata": {},
   "source": [
    "`image_predictions` table.\n",
    "- Converting columns to their right datatypes\n",
    "- Rows with false predictions were dropped.\n",
    "- Converting names to lowercase to ensure consistency\n"
   ]
  },
  {
   "cell_type": "markdown",
   "id": "4a141ee5",
   "metadata": {},
   "source": [
    "The three cleaned datasets were merged  and stored as twitter_archive_master.csv to generate insights and visualizations"
   ]
  },
  {
   "cell_type": "code",
   "execution_count": null,
   "id": "6e021c48",
   "metadata": {},
   "outputs": [],
   "source": []
  },
  {
   "cell_type": "code",
   "execution_count": null,
   "id": "68025c91",
   "metadata": {},
   "outputs": [],
   "source": []
  },
  {
   "cell_type": "code",
   "execution_count": null,
   "id": "ce0009fc",
   "metadata": {},
   "outputs": [],
   "source": []
  }
 ],
 "metadata": {
  "kernelspec": {
   "display_name": "Python 3 (ipykernel)",
   "language": "python",
   "name": "python3"
  },
  "language_info": {
   "codemirror_mode": {
    "name": "ipython",
    "version": 3
   },
   "file_extension": ".py",
   "mimetype": "text/x-python",
   "name": "python",
   "nbconvert_exporter": "python",
   "pygments_lexer": "ipython3",
   "version": "3.9.12"
  }
 },
 "nbformat": 4,
 "nbformat_minor": 5
}
