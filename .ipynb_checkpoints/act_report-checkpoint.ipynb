{
 "cells": [
  {
   "cell_type": "markdown",
   "id": "13a3c059",
   "metadata": {},
   "source": [
    "### WeDogs Twitter Analysis"
   ]
  },
  {
   "cell_type": "markdown",
   "id": "3c91968b",
   "metadata": {},
   "source": [
    "- What are the top 10 common names for dogs?\n",
    "- What are the most common dog stage?\n",
    "- What dog stage receives the best ratings?"
   ]
  },
  {
   "cell_type": "markdown",
   "id": "bab41ea4",
   "metadata": {},
   "source": [
    "### Top 10 common Name for Dogs"
   ]
  },
  {
   "cell_type": "code",
   "execution_count": 74,
   "id": "4042156f",
   "metadata": {},
   "outputs": [
    {
     "data": {
      "text/plain": [
       "Charlie    27\n",
       "Daisy      21\n",
       "Cooper     21\n",
       "Penny      21\n",
       "Tucker     18\n",
       "           ..\n",
       "Dobby       3\n",
       "Nimbus      3\n",
       "Mack        3\n",
       "Snicku      3\n",
       "Torque      3\n",
       "Name: name, Length: 682, dtype: int64"
      ]
     },
     "execution_count": 74,
     "metadata": {},
     "output_type": "execute_result"
    }
   ],
   "source": [
    "twitter_archive_master.name.value_counts()"
   ]
  },
  {
   "cell_type": "markdown",
   "id": "056d5c97",
   "metadata": {},
   "source": [
    "### What are the most common dog stage?"
   ]
  },
  {
   "cell_type": "code",
   "execution_count": 73,
   "id": "a51511fa",
   "metadata": {
    "scrolled": true
   },
   "outputs": [
    {
     "data": {
      "text/plain": [
       "pupper     417\n",
       "doggo      114\n",
       "puppo       48\n",
       "floofer     15\n",
       "Name: dog_stage, dtype: int64"
      ]
     },
     "execution_count": 73,
     "metadata": {},
     "output_type": "execute_result"
    }
   ],
   "source": [
    "twitter_archive_master.dog_stage.value_counts()"
   ]
  },
  {
   "cell_type": "markdown",
   "id": "b8bf7b00",
   "metadata": {},
   "source": [
    "The most common dog stage is  **pupper** followed by **doggo**"
   ]
  },
  {
   "cell_type": "code",
   "execution_count": 79,
   "id": "025b2517",
   "metadata": {},
   "outputs": [
    {
     "data": {
      "text/plain": [
       "Text(0.5, 1.0, 'Most Common Dog Stage')"
      ]
     },
     "execution_count": 79,
     "metadata": {},
     "output_type": "execute_result"
    },
    {
     "data": {
      "image/png": "[encoded data removed]",
      "text/plain": [
       "<Figure size 432x288 with 1 Axes>"
      ]
     },
     "metadata": {
      "needs_background": "light"
     },
     "output_type": "display_data"
    }
   ],
   "source": [
    "most_common_dog_stage = twitter_archive_master.dog_stage.value_counts()\n",
    "most_common_dog_stage.plot(kind=\"bar\")\n",
    "plt.title(\"Most Common Dog Stage\")\n",
    "plt.show()"
   ]
  },
  {
   "cell_type": "markdown",
   "id": "2ba4e20c",
   "metadata": {},
   "source": [
    "### What dog stage receives the best ratings?"
   ]
  },
  {
   "cell_type": "code",
   "execution_count": 86,
   "id": "b7bdcccd",
   "metadata": {},
   "outputs": [
    {
     "data": {
      "text/plain": [
       "dog_stage\n",
       "puppo      12.687500\n",
       "doggo      12.342105\n",
       "floofer    12.000000\n",
       "pupper     10.978417\n",
       "Name: rating_numerator, dtype: float64"
      ]
     },
     "execution_count": 86,
     "metadata": {},
     "output_type": "execute_result"
    }
   ],
   "source": [
    "avg_rating= twitter_archive_master.groupby([\"dog_stage\"])[\"rating_numerator\"].mean()\n",
    "avg_rating.sort_values(ascending=False, inplace=True)\n",
    "avg_rating"
   ]
  },
  {
   "cell_type": "code",
   "execution_count": 87,
   "id": "f42fa5ab",
   "metadata": {
    "scrolled": true
   },
   "outputs": [
    {
     "data": {
      "image/png": "[encoded data removed]",
      "text/plain": [
       "<Figure size 432x288 with 1 Axes>"
      ]
     },
     "metadata": {
      "needs_background": "light"
     },
     "output_type": "display_data"
    }
   ],
   "source": [
    "avg_rating.plot(kind=\"bar\")\n",
    "plt.title(\"Rating of Dog Stage\")\n",
    "plt.show()"
   ]
  },
  {
   "cell_type": "markdown",
   "id": "33ea5254",
   "metadata": {},
   "source": [
    "The puppo stage recieved the highest rating"
   ]
  },
  {
   "cell_type": "code",
   "execution_count": null,
   "id": "890dd6d5",
   "metadata": {},
   "outputs": [],
   "source": []
  }
 ],
 "metadata": {
  "kernelspec": {
   "display_name": "Python 3 (ipykernel)",
   "language": "python",
   "name": "python3"
  },
  "language_info": {
   "codemirror_mode": {
    "name": "ipython",
    "version": 3
   },
   "file_extension": ".py",
   "mimetype": "text/x-python",
   "name": "python",
   "nbconvert_exporter": "python",
   "pygments_lexer": "ipython3",
   "version": "3.9.12"
  }
 },
 "nbformat": 4,
 "nbformat_minor": 5
}
